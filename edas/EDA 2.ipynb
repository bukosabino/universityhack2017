{
 "cells": [
  {
   "cell_type": "markdown",
   "metadata": {
    "deletable": true,
    "editable": true
   },
   "source": [
    "<h1>Análisis Exploratorio de Datos 2</h1>\n",
    "\n"
   ]
  },
  {
   "cell_type": "code",
   "execution_count": 1,
   "metadata": {
    "collapsed": false,
    "deletable": true,
    "editable": true
   },
   "outputs": [],
   "source": [
    "import numpy as np\n",
    "import pandas as pd\n",
    "import matplotlib.pyplot as plt\n",
    "import seaborn as sns\n",
    "%matplotlib inline\n",
    "\n",
    "color = sns.color_palette()"
   ]
  },
  {
   "cell_type": "code",
   "execution_count": 4,
   "metadata": {
    "collapsed": false,
    "deletable": true,
    "editable": true
   },
   "outputs": [],
   "source": [
    "train_df = pd.read_hdf('../data/train_final.h5')\n",
    "val_df = pd.read_hdf('../data/validacion_final.h5')"
   ]
  },
  {
   "cell_type": "code",
   "execution_count": 7,
   "metadata": {
    "collapsed": false,
    "deletable": true,
    "editable": true
   },
   "outputs": [],
   "source": [
    "# ordenación por usuario \n",
    "train_df.sort_values([\"ID\"], inplace=True, ascending=True)"
   ]
  },
  {
   "cell_type": "code",
   "execution_count": null,
   "metadata": {
    "collapsed": true,
    "deletable": true,
    "editable": true
   },
   "outputs": [],
   "source": [
    "#train_df.describe()\n",
    "#train_df.groupby(\"ID_Customer\").describe()"
   ]
  },
  {
   "cell_type": "code",
   "execution_count": 8,
   "metadata": {
    "collapsed": false,
    "deletable": true,
    "editable": true
   },
   "outputs": [
    {
     "name": "stdout",
     "output_type": "stream",
     "text": [
      "Número de clientes diferentes en train: 602873\n",
      "Número de clientes diferentes en la validación: 676370\n"
     ]
    }
   ],
   "source": [
    "# numero de clientes en el entrenamiento\n",
    "print('Número de clientes diferentes en train: {}'.format(len(train_df.ID.unique())))\n",
    "print('Número de clientes diferentes en la validación: {}'.format(len(val_df.ID.unique())))"
   ]
  },
  {
   "cell_type": "markdown",
   "metadata": {
    "collapsed": true,
    "deletable": true,
    "editable": true
   },
   "source": [
    "Podemos observar que serán 602873 los usuarios con los que entrenaremos, aunque realmente partíamos de 676370 hemos despreciado todos aquellos que solo aparecían una vez para entrenar."
   ]
  },
  {
   "cell_type": "code",
   "execution_count": 11,
   "metadata": {
    "collapsed": false,
    "deletable": true,
    "editable": true
   },
   "outputs": [
    {
     "name": "stdout",
     "output_type": "stream",
     "text": [
      "Número de registros: 2674231, Número de variables: 101\n",
      "Número de registros: 676370, Número de variables: 101\n"
     ]
    }
   ],
   "source": [
    "# Número de productos diferentes\n",
    "print('Número de registros: {}, Número de variables: {}'.format(*train_df.shape))\n",
    "print('Número de registros: {}, Número de variables: {}'.format(*val_df.shape))"
   ]
  },
  {
   "cell_type": "markdown",
   "metadata": {
    "deletable": true,
    "editable": true
   },
   "source": [
    "Ya sabemos por el EDA 1 que hay 6 productos (601, 301, 201, 9991, 2302 y 9993) que se venden muchísimo. Uno de los productos, el 601, se vende tanto que un total de 561013 usuarios de 602873 lo tienen. Lo cual supone un 93.06% de los clientes que analizamos."
   ]
  },
  {
   "cell_type": "markdown",
   "metadata": {
    "collapsed": true,
    "deletable": true,
    "editable": true
   },
   "source": [
    "<h4>Buscando ruido</h4>\n",
    "<p>Comprobamos cuántos 'missing values' hay en los datos:</p>"
   ]
  },
  {
   "cell_type": "code",
   "execution_count": 13,
   "metadata": {
    "collapsed": false,
    "deletable": true,
    "editable": true
   },
   "outputs": [
    {
     "data": {
      "text/plain": [
       "0"
      ]
     },
     "execution_count": 13,
     "metadata": {},
     "output_type": "execute_result"
    }
   ],
   "source": [
    "train_df.isnull().values.ravel().sum()"
   ]
  },
  {
   "cell_type": "markdown",
   "metadata": {
    "collapsed": false,
    "deletable": true,
    "editable": true
   },
   "source": [
    "Podemos concluir que no hay ningún 'missing value' en todo el dataset"
   ]
  },
  {
   "cell_type": "markdown",
   "metadata": {
    "collapsed": true,
    "deletable": true,
    "editable": true
   },
   "source": [
    "A simple vista parece que los valores de Socio_Demo nunca varían para un mismo usuario:"
   ]
  },
  {
   "cell_type": "markdown",
   "metadata": {
    "collapsed": true,
    "deletable": true,
    "editable": true
   },
   "source": [
    "Asegurémonos de ello:"
   ]
  },
  {
   "cell_type": "code",
   "execution_count": 19,
   "metadata": {
    "collapsed": false,
    "deletable": true,
    "editable": true
   },
   "outputs": [
    {
     "name": "stdout",
     "output_type": "stream",
     "text": [
      "No hay ningún cambio en SD1\n",
      "No hay ningún cambio en SD2\n",
      "No hay ningún cambio en SD3\n",
      "No hay ningún cambio en SD4\n",
      "No hay ningún cambio en SD5\n"
     ]
    }
   ],
   "source": [
    "for column in train_df.columns[1:6]:\n",
    "    groups = train_df[[\"ID\", column]].groupby([\"ID\"])\n",
    "    changes = groups.apply(lambda x: len(x[column].unique())) > 1\n",
    "    if any(changes):\n",
    "        print(\"Existen cambios en {}\").format(str(column))\n",
    "    else:\n",
    "        print(\"No hay ningún cambio en {}\".format(str(column)))"
   ]
  },
  {
   "cell_type": "markdown",
   "metadata": {
    "collapsed": false,
    "deletable": true,
    "editable": true
   },
   "source": [
    "<p>Estas columnas de Socio_Demo provocan un extra de información inútil en nuestro dataset.</p>\n",
    "<p>Nos planteamos entonces usar un solo registro para cada cliente, alterando las columnas para tener una columna por cada producto y rellenarla con valores booleanos</p>"
   ]
  },
  {
   "cell_type": "markdown",
   "metadata": {
    "collapsed": true,
    "deletable": true,
    "editable": true
   },
   "source": []
  }
 ],
 "metadata": {
  "kernelspec": {
   "display_name": "Python 2",
   "language": "python",
   "name": "python2"
  },
  "language_info": {
   "codemirror_mode": {
    "name": "ipython",
    "version": 2
   },
   "file_extension": ".py",
   "mimetype": "text/x-python",
   "name": "python",
   "nbconvert_exporter": "python",
   "pygments_lexer": "ipython2",
   "version": "2.7.10"
  }
 },
 "nbformat": 4,
 "nbformat_minor": 1
}
